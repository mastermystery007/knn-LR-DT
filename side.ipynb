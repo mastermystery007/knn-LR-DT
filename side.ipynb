{
 "metadata": {
  "language_info": {
   "codemirror_mode": {
    "name": "ipython",
    "version": 3
   },
   "file_extension": ".py",
   "mimetype": "text/x-python",
   "name": "python",
   "nbconvert_exporter": "python",
   "pygments_lexer": "ipython3",
   "version": "3.8.5-final"
  },
  "orig_nbformat": 2,
  "kernelspec": {
   "name": "python38564bitbf7420ae57154df185dcfbca0c301360",
   "display_name": "Python 3.8.5 64-bit",
   "language": "python"
  }
 },
 "nbformat": 4,
 "nbformat_minor": 2,
 "cells": [
  {
   "cell_type": "code",
   "execution_count": 2,
   "metadata": {},
   "outputs": [
    {
     "output_type": "stream",
     "name": "stderr",
     "text": [
      "Matplotlib is building the font cache; this may take a moment.\n"
     ]
    }
   ],
   "source": [
    "import numpy as np\n",
    "import pandas as pd\n",
    "import seaborn as sns\n",
    "import matplotlib.pyplot as plt\n",
    "from sklearn.preprocessing import LabelEncoder, OneHotEncoder\n",
    "import warnings\n",
    "warnings.filterwarnings(\"ignore\")\n",
    "from sklearn.model_selection import train_test_split\n",
    "from sklearn.svm import SVC\n",
    "from sklearn.metrics import confusion_matrix"
   ]
  },
  {
   "cell_type": "code",
   "execution_count": 15,
   "metadata": {},
   "outputs": [
    {
     "output_type": "stream",
     "name": "stdout",
     "text": [
      "    experience  salary\n0          1.1   39343\n1          1.3   46205\n2          1.5   37731\n3          2.0   43525\n4          2.2   39891\n5          2.9   56642\n6          3.0   60150\n7          3.2   54445\n8          3.2   64445\n9          3.7   57189\n10         3.9   63218\n11         4.0   55794\n12         4.0   56957\n13         4.1   57081\n"
     ]
    }
   ],
   "source": [
    "np.random.seed(123)\n",
    "headers = [\"experience\",\"salary\"]\n",
    "data = pd.read_csv('salaries.csv', na_values='?',    \n",
    "         header=None,  names = headers) \n",
    "\n",
    "\n",
    "# d_cut = {\"Ideal\":5,\"Premium\":4,\"Very Good\":3,\"Good\":2,\"Fair\":1}\n",
    "# d_color = {\"D\":7,\"E\":6,\"F\":5,\"G\":4,\"H\":3,\"I\":2,\"J\":1}\n",
    "# d_clarity = {\"IF\":8,\"VVS1\":7,\"VVS2\":6,\"VS1\":5,\"VS2\":4,\"SI1\":3,\"SI2\":2,\"I1\":4}\n",
    " \n",
    "#label_encoder = LabelEncoder()\n",
    "#data[:,3] =label_encoder.fit(data[:,3].values)\n",
    "#print(label_encoder.classes_)\n",
    "# data[:,1] =label_encoder.fit_transform(data[:,1])\n",
    "# data[:,2] =label_encoder.fit_transform(data[:,2])\n",
    "# data[:,3] =label_encoder.fit_transform(data[:,3])\n",
    "\n",
    "\n",
    "# data[\"cut\"] = data[\"cut\"].map(d_cut)\n",
    "# data[\"color\"] = data[\"color\"].map(d_color)\n",
    "# data[\"clarity\"] = data[\"clarity\"].map(d_clarity)\n",
    "\n",
    "print(data)"
   ]
  },
  {
   "cell_type": "code",
   "execution_count": 16,
   "metadata": {},
   "outputs": [
    {
     "output_type": "execute_result",
     "data": {
      "text/plain": [
       "<AxesSubplot:>"
      ]
     },
     "metadata": {},
     "execution_count": 16
    },
    {
     "output_type": "display_data",
     "data": {
      "text/plain": "<Figure size 432x288 with 2 Axes>",
      "image/svg+xml": "<?xml version=\"1.0\" encoding=\"utf-8\" standalone=\"no\"?>\n<!DOCTYPE svg PUBLIC \"-//W3C//DTD SVG 1.1//EN\"\n  \"http://www.w3.org/Graphics/SVG/1.1/DTD/svg11.dtd\">\n<!-- Created with matplotlib (https://matplotlib.org/) -->\n<svg height=\"252.317344pt\" version=\"1.1\" viewBox=\"0 0 355.79575 252.317344\" width=\"355.79575pt\" xmlns=\"http://www.w3.org/2000/svg\" xmlns:xlink=\"http://www.w3.org/1999/xlink\">\n <metadata>\n  <rdf:RDF xmlns:cc=\"http://creativecommons.org/ns#\" xmlns:dc=\"http://purl.org/dc/elements/1.1/\" xmlns:rdf=\"http://www.w3.org/1999/02/22-rdf-syntax-ns#\">\n   <cc:Work>\n    <dc:type rdf:resource=\"http://purl.org/dc/dcmitype/StillImage\"/>\n    <dc:date>2021-02-05T09:18:00.813449</dc:date>\n    <dc:format>image/svg+xml</dc:format>\n    <dc:creator>\n     <cc:Agent>\n      <dc:title>Matplotlib v3.3.4, https://matplotlib.org/</dc:title>\n     </cc:Agent>\n    </dc:creator>\n   </cc:Work>\n  </rdf:RDF>\n </metadata>\n <defs>\n  <style type=\"text/css\">*{stroke-linecap:butt;stroke-linejoin:round;}</style>\n </defs>\n <g id=\"figure_1\">\n  <g id=\"patch_1\">\n   <path d=\"M 0 252.317344 \nL 355.79575 252.317344 \nL 355.79575 0 \nL 0 0 \nz\n\" style=\"fill:none;\"/>\n  </g>\n  <g id=\"axes_1\">\n   <g id=\"patch_2\">\n    <path d=\"M 23.878125 228.439219 \nL 291.718125 228.439219 \nL 291.718125 10.999219 \nL 23.878125 10.999219 \nz\n\" style=\"fill:#ffffff;\"/>\n   </g>\n   <g id=\"QuadMesh_1\">\n    <path clip-path=\"url(#pb30e516930)\" d=\"M 23.878125 10.999219 \nL 157.798125 10.999219 \nL 157.798125 119.719219 \nL 23.878125 119.719219 \nL 23.878125 10.999219 \n\" style=\"fill:#faebdd;\"/>\n    <path clip-path=\"url(#pb30e516930)\" d=\"M 157.798125 10.999219 \nL 291.718125 10.999219 \nL 291.718125 119.719219 \nL 157.798125 119.719219 \nL 157.798125 10.999219 \n\" style=\"fill:#03051a;\"/>\n    <path clip-path=\"url(#pb30e516930)\" d=\"M 23.878125 119.719219 \nL 157.798125 119.719219 \nL 157.798125 228.439219 \nL 23.878125 228.439219 \nL 23.878125 119.719219 \n\" style=\"fill:#03051a;\"/>\n    <path clip-path=\"url(#pb30e516930)\" d=\"M 157.798125 119.719219 \nL 291.718125 119.719219 \nL 291.718125 228.439219 \nL 157.798125 228.439219 \nL 157.798125 119.719219 \n\" style=\"fill:#faebdd;\"/>\n   </g>\n   <g id=\"matplotlib.axis_1\">\n    <g id=\"xtick_1\">\n     <g id=\"line2d_1\">\n      <defs>\n       <path d=\"M 0 0 \nL 0 3.5 \n\" id=\"md459650370\" style=\"stroke:#000000;stroke-width:0.8;\"/>\n      </defs>\n      <g>\n       <use style=\"stroke:#000000;stroke-width:0.8;\" x=\"90.838125\" xlink:href=\"#md459650370\" y=\"228.439219\"/>\n      </g>\n     </g>\n     <g id=\"text_1\">\n      <!-- experience -->\n      <g transform=\"translate(63.123281 243.037656)scale(0.1 -0.1)\">\n       <defs>\n        <path d=\"M 56.203125 29.59375 \nL 56.203125 25.203125 \nL 14.890625 25.203125 \nQ 15.484375 15.921875 20.484375 11.0625 \nQ 25.484375 6.203125 34.421875 6.203125 \nQ 39.59375 6.203125 44.453125 7.46875 \nQ 49.3125 8.734375 54.109375 11.28125 \nL 54.109375 2.78125 \nQ 49.265625 0.734375 44.1875 -0.34375 \nQ 39.109375 -1.421875 33.890625 -1.421875 \nQ 20.796875 -1.421875 13.15625 6.1875 \nQ 5.515625 13.8125 5.515625 26.8125 \nQ 5.515625 40.234375 12.765625 48.109375 \nQ 20.015625 56 32.328125 56 \nQ 43.359375 56 49.78125 48.890625 \nQ 56.203125 41.796875 56.203125 29.59375 \nz\nM 47.21875 32.234375 \nQ 47.125 39.59375 43.09375 43.984375 \nQ 39.0625 48.390625 32.421875 48.390625 \nQ 24.90625 48.390625 20.390625 44.140625 \nQ 15.875 39.890625 15.1875 32.171875 \nz\n\" id=\"DejaVuSans-101\"/>\n        <path d=\"M 54.890625 54.6875 \nL 35.109375 28.078125 \nL 55.90625 0 \nL 45.3125 0 \nL 29.390625 21.484375 \nL 13.484375 0 \nL 2.875 0 \nL 24.125 28.609375 \nL 4.6875 54.6875 \nL 15.28125 54.6875 \nL 29.78125 35.203125 \nL 44.28125 54.6875 \nz\n\" id=\"DejaVuSans-120\"/>\n        <path d=\"M 18.109375 8.203125 \nL 18.109375 -20.796875 \nL 9.078125 -20.796875 \nL 9.078125 54.6875 \nL 18.109375 54.6875 \nL 18.109375 46.390625 \nQ 20.953125 51.265625 25.265625 53.625 \nQ 29.59375 56 35.59375 56 \nQ 45.5625 56 51.78125 48.09375 \nQ 58.015625 40.1875 58.015625 27.296875 \nQ 58.015625 14.40625 51.78125 6.484375 \nQ 45.5625 -1.421875 35.59375 -1.421875 \nQ 29.59375 -1.421875 25.265625 0.953125 \nQ 20.953125 3.328125 18.109375 8.203125 \nz\nM 48.6875 27.296875 \nQ 48.6875 37.203125 44.609375 42.84375 \nQ 40.53125 48.484375 33.40625 48.484375 \nQ 26.265625 48.484375 22.1875 42.84375 \nQ 18.109375 37.203125 18.109375 27.296875 \nQ 18.109375 17.390625 22.1875 11.75 \nQ 26.265625 6.109375 33.40625 6.109375 \nQ 40.53125 6.109375 44.609375 11.75 \nQ 48.6875 17.390625 48.6875 27.296875 \nz\n\" id=\"DejaVuSans-112\"/>\n        <path d=\"M 41.109375 46.296875 \nQ 39.59375 47.171875 37.8125 47.578125 \nQ 36.03125 48 33.890625 48 \nQ 26.265625 48 22.1875 43.046875 \nQ 18.109375 38.09375 18.109375 28.8125 \nL 18.109375 0 \nL 9.078125 0 \nL 9.078125 54.6875 \nL 18.109375 54.6875 \nL 18.109375 46.1875 \nQ 20.953125 51.171875 25.484375 53.578125 \nQ 30.03125 56 36.53125 56 \nQ 37.453125 56 38.578125 55.875 \nQ 39.703125 55.765625 41.0625 55.515625 \nz\n\" id=\"DejaVuSans-114\"/>\n        <path d=\"M 9.421875 54.6875 \nL 18.40625 54.6875 \nL 18.40625 0 \nL 9.421875 0 \nz\nM 9.421875 75.984375 \nL 18.40625 75.984375 \nL 18.40625 64.59375 \nL 9.421875 64.59375 \nz\n\" id=\"DejaVuSans-105\"/>\n        <path d=\"M 54.890625 33.015625 \nL 54.890625 0 \nL 45.90625 0 \nL 45.90625 32.71875 \nQ 45.90625 40.484375 42.875 44.328125 \nQ 39.84375 48.1875 33.796875 48.1875 \nQ 26.515625 48.1875 22.3125 43.546875 \nQ 18.109375 38.921875 18.109375 30.90625 \nL 18.109375 0 \nL 9.078125 0 \nL 9.078125 54.6875 \nL 18.109375 54.6875 \nL 18.109375 46.1875 \nQ 21.34375 51.125 25.703125 53.5625 \nQ 30.078125 56 35.796875 56 \nQ 45.21875 56 50.046875 50.171875 \nQ 54.890625 44.34375 54.890625 33.015625 \nz\n\" id=\"DejaVuSans-110\"/>\n        <path d=\"M 48.78125 52.59375 \nL 48.78125 44.1875 \nQ 44.96875 46.296875 41.140625 47.34375 \nQ 37.3125 48.390625 33.40625 48.390625 \nQ 24.65625 48.390625 19.8125 42.84375 \nQ 14.984375 37.3125 14.984375 27.296875 \nQ 14.984375 17.28125 19.8125 11.734375 \nQ 24.65625 6.203125 33.40625 6.203125 \nQ 37.3125 6.203125 41.140625 7.25 \nQ 44.96875 8.296875 48.78125 10.40625 \nL 48.78125 2.09375 \nQ 45.015625 0.34375 40.984375 -0.53125 \nQ 36.96875 -1.421875 32.421875 -1.421875 \nQ 20.0625 -1.421875 12.78125 6.34375 \nQ 5.515625 14.109375 5.515625 27.296875 \nQ 5.515625 40.671875 12.859375 48.328125 \nQ 20.21875 56 33.015625 56 \nQ 37.15625 56 41.109375 55.140625 \nQ 45.0625 54.296875 48.78125 52.59375 \nz\n\" id=\"DejaVuSans-99\"/>\n       </defs>\n       <use xlink:href=\"#DejaVuSans-101\"/>\n       <use x=\"59.773438\" xlink:href=\"#DejaVuSans-120\"/>\n       <use x=\"118.953125\" xlink:href=\"#DejaVuSans-112\"/>\n       <use x=\"182.429688\" xlink:href=\"#DejaVuSans-101\"/>\n       <use x=\"243.953125\" xlink:href=\"#DejaVuSans-114\"/>\n       <use x=\"285.066406\" xlink:href=\"#DejaVuSans-105\"/>\n       <use x=\"312.849609\" xlink:href=\"#DejaVuSans-101\"/>\n       <use x=\"374.373047\" xlink:href=\"#DejaVuSans-110\"/>\n       <use x=\"437.751953\" xlink:href=\"#DejaVuSans-99\"/>\n       <use x=\"492.732422\" xlink:href=\"#DejaVuSans-101\"/>\n      </g>\n     </g>\n    </g>\n    <g id=\"xtick_2\">\n     <g id=\"line2d_2\">\n      <g>\n       <use style=\"stroke:#000000;stroke-width:0.8;\" x=\"224.758125\" xlink:href=\"#md459650370\" y=\"228.439219\"/>\n      </g>\n     </g>\n     <g id=\"text_2\">\n      <!-- salary -->\n      <g transform=\"translate(209.621406 243.037656)scale(0.1 -0.1)\">\n       <defs>\n        <path d=\"M 44.28125 53.078125 \nL 44.28125 44.578125 \nQ 40.484375 46.53125 36.375 47.5 \nQ 32.28125 48.484375 27.875 48.484375 \nQ 21.1875 48.484375 17.84375 46.4375 \nQ 14.5 44.390625 14.5 40.28125 \nQ 14.5 37.15625 16.890625 35.375 \nQ 19.28125 33.59375 26.515625 31.984375 \nL 29.59375 31.296875 \nQ 39.15625 29.25 43.1875 25.515625 \nQ 47.21875 21.78125 47.21875 15.09375 \nQ 47.21875 7.46875 41.1875 3.015625 \nQ 35.15625 -1.421875 24.609375 -1.421875 \nQ 20.21875 -1.421875 15.453125 -0.5625 \nQ 10.6875 0.296875 5.421875 2 \nL 5.421875 11.28125 \nQ 10.40625 8.6875 15.234375 7.390625 \nQ 20.0625 6.109375 24.8125 6.109375 \nQ 31.15625 6.109375 34.5625 8.28125 \nQ 37.984375 10.453125 37.984375 14.40625 \nQ 37.984375 18.0625 35.515625 20.015625 \nQ 33.0625 21.96875 24.703125 23.78125 \nL 21.578125 24.515625 \nQ 13.234375 26.265625 9.515625 29.90625 \nQ 5.8125 33.546875 5.8125 39.890625 \nQ 5.8125 47.609375 11.28125 51.796875 \nQ 16.75 56 26.8125 56 \nQ 31.78125 56 36.171875 55.265625 \nQ 40.578125 54.546875 44.28125 53.078125 \nz\n\" id=\"DejaVuSans-115\"/>\n        <path d=\"M 34.28125 27.484375 \nQ 23.390625 27.484375 19.1875 25 \nQ 14.984375 22.515625 14.984375 16.5 \nQ 14.984375 11.71875 18.140625 8.90625 \nQ 21.296875 6.109375 26.703125 6.109375 \nQ 34.1875 6.109375 38.703125 11.40625 \nQ 43.21875 16.703125 43.21875 25.484375 \nL 43.21875 27.484375 \nz\nM 52.203125 31.203125 \nL 52.203125 0 \nL 43.21875 0 \nL 43.21875 8.296875 \nQ 40.140625 3.328125 35.546875 0.953125 \nQ 30.953125 -1.421875 24.3125 -1.421875 \nQ 15.921875 -1.421875 10.953125 3.296875 \nQ 6 8.015625 6 15.921875 \nQ 6 25.140625 12.171875 29.828125 \nQ 18.359375 34.515625 30.609375 34.515625 \nL 43.21875 34.515625 \nL 43.21875 35.40625 \nQ 43.21875 41.609375 39.140625 45 \nQ 35.0625 48.390625 27.6875 48.390625 \nQ 23 48.390625 18.546875 47.265625 \nQ 14.109375 46.140625 10.015625 43.890625 \nL 10.015625 52.203125 \nQ 14.9375 54.109375 19.578125 55.046875 \nQ 24.21875 56 28.609375 56 \nQ 40.484375 56 46.34375 49.84375 \nQ 52.203125 43.703125 52.203125 31.203125 \nz\n\" id=\"DejaVuSans-97\"/>\n        <path d=\"M 9.421875 75.984375 \nL 18.40625 75.984375 \nL 18.40625 0 \nL 9.421875 0 \nz\n\" id=\"DejaVuSans-108\"/>\n        <path d=\"M 32.171875 -5.078125 \nQ 28.375 -14.84375 24.75 -17.8125 \nQ 21.140625 -20.796875 15.09375 -20.796875 \nL 7.90625 -20.796875 \nL 7.90625 -13.28125 \nL 13.1875 -13.28125 \nQ 16.890625 -13.28125 18.9375 -11.515625 \nQ 21 -9.765625 23.484375 -3.21875 \nL 25.09375 0.875 \nL 2.984375 54.6875 \nL 12.5 54.6875 \nL 29.59375 11.921875 \nL 46.6875 54.6875 \nL 56.203125 54.6875 \nz\n\" id=\"DejaVuSans-121\"/>\n       </defs>\n       <use xlink:href=\"#DejaVuSans-115\"/>\n       <use x=\"52.099609\" xlink:href=\"#DejaVuSans-97\"/>\n       <use x=\"113.378906\" xlink:href=\"#DejaVuSans-108\"/>\n       <use x=\"141.162109\" xlink:href=\"#DejaVuSans-97\"/>\n       <use x=\"202.441406\" xlink:href=\"#DejaVuSans-114\"/>\n       <use x=\"243.554688\" xlink:href=\"#DejaVuSans-121\"/>\n      </g>\n     </g>\n    </g>\n   </g>\n   <g id=\"matplotlib.axis_2\">\n    <g id=\"ytick_1\">\n     <g id=\"line2d_3\">\n      <defs>\n       <path d=\"M 0 0 \nL -3.5 0 \n\" id=\"m4b07bd2ca8\" style=\"stroke:#000000;stroke-width:0.8;\"/>\n      </defs>\n      <g>\n       <use style=\"stroke:#000000;stroke-width:0.8;\" x=\"23.878125\" xlink:href=\"#m4b07bd2ca8\" y=\"65.359219\"/>\n      </g>\n     </g>\n     <g id=\"text_3\">\n      <!-- experience -->\n      <g transform=\"translate(14.798438 116.989688)rotate(-90)scale(0.1 -0.1)\">\n       <use xlink:href=\"#DejaVuSans-101\"/>\n       <use x=\"59.773438\" xlink:href=\"#DejaVuSans-120\"/>\n       <use x=\"118.953125\" xlink:href=\"#DejaVuSans-112\"/>\n       <use x=\"182.429688\" xlink:href=\"#DejaVuSans-101\"/>\n       <use x=\"243.953125\" xlink:href=\"#DejaVuSans-114\"/>\n       <use x=\"285.066406\" xlink:href=\"#DejaVuSans-105\"/>\n       <use x=\"312.849609\" xlink:href=\"#DejaVuSans-101\"/>\n       <use x=\"374.373047\" xlink:href=\"#DejaVuSans-110\"/>\n       <use x=\"437.751953\" xlink:href=\"#DejaVuSans-99\"/>\n       <use x=\"492.732422\" xlink:href=\"#DejaVuSans-101\"/>\n      </g>\n     </g>\n    </g>\n    <g id=\"ytick_2\">\n     <g id=\"line2d_4\">\n      <g>\n       <use style=\"stroke:#000000;stroke-width:0.8;\" x=\"23.878125\" xlink:href=\"#m4b07bd2ca8\" y=\"174.079219\"/>\n      </g>\n     </g>\n     <g id=\"text_4\">\n      <!-- salary -->\n      <g transform=\"translate(14.798438 200.553438)rotate(-90)scale(0.1 -0.1)\">\n       <use xlink:href=\"#DejaVuSans-115\"/>\n       <use x=\"52.099609\" xlink:href=\"#DejaVuSans-97\"/>\n       <use x=\"113.378906\" xlink:href=\"#DejaVuSans-108\"/>\n       <use x=\"141.162109\" xlink:href=\"#DejaVuSans-97\"/>\n       <use x=\"202.441406\" xlink:href=\"#DejaVuSans-114\"/>\n       <use x=\"243.554688\" xlink:href=\"#DejaVuSans-121\"/>\n      </g>\n     </g>\n    </g>\n   </g>\n  </g>\n  <g id=\"axes_2\">\n   <g id=\"patch_3\">\n    <path clip-path=\"url(#pf2a6e52a2f)\" d=\"M 308.458125 228.439219 \nL 308.458125 227.589844 \nL 308.458125 11.848594 \nL 308.458125 10.999219 \nL 319.330125 10.999219 \nL 319.330125 11.848594 \nL 319.330125 227.589844 \nL 319.330125 228.439219 \nz\n\" style=\"fill:#ffffff;stroke:#ffffff;stroke-linejoin:miter;stroke-width:0.01;\"/>\n   </g>\n   <image height=\"217\" id=\"imageb915e481ce\" transform=\"scale(1 -1)translate(0 -217)\" width=\"11\" x=\"308\" xlink:href=\"data:image/png;base64,\niVBORw0KGgoAAAANSUhEUgAAAAsAAADZCAYAAAD2WsoCAAABX0lEQVR4nNWa2w0DMQjAeN0S3X/OXlfAH5ZovhEyhqS5qDnP543lmszcxtLgAMFdJWUurcAiGCgzsuFhHPHc6dk4MXWoQLEpNzKb7dZsaBgTaDb2y5wNrd0QY7/Mk58EjzZIzIbXbm9brUPp8HvqoA2AIarTmJGNI8wIg+1ukpkVuP48+FsbJJjY8DDmBgZrN2EehHHEhoYx7z61uAfrBgaykWExwwIBRjNmEgxEi+oSnAXTJLhIMMKAmdexMV1fKbNYIDjsGHM1sAGZAQZSJ9oYbTYQs6auwFWGYYQ3G14wuPeQxx6qjmUGN3OWGdwLJgiGx8wwwM8mzEyeLFBmGEze6zQbQZ4NPRtJbES3hIGa4nnO0QoU200yoz0IPnlVG6SDHgaywc461EFLHdzdGoZXIMrcaPhvMLN2o3nWNmzemDrRBinwxvBnP1Jmc/iJZ9Ju9C+LKwWydmtnnVXgD2R4KiPLLY7SAAAAAElFTkSuQmCC\" y=\"-11\"/>\n   <g id=\"matplotlib.axis_3\"/>\n   <g id=\"matplotlib.axis_4\">\n    <g id=\"ytick_3\">\n     <g id=\"line2d_5\">\n      <defs>\n       <path d=\"M 0 0 \nL 3.5 0 \n\" id=\"m3ecdd6d84b\" style=\"stroke:#000000;stroke-width:0.8;\"/>\n      </defs>\n      <g>\n       <use style=\"stroke:#000000;stroke-width:0.8;\" x=\"319.330125\" xlink:href=\"#m3ecdd6d84b\" y=\"215.137909\"/>\n      </g>\n     </g>\n     <g id=\"text_5\">\n      <!-- 0.84 -->\n      <g transform=\"translate(326.330125 218.937128)scale(0.1 -0.1)\">\n       <defs>\n        <path d=\"M 31.78125 66.40625 \nQ 24.171875 66.40625 20.328125 58.90625 \nQ 16.5 51.421875 16.5 36.375 \nQ 16.5 21.390625 20.328125 13.890625 \nQ 24.171875 6.390625 31.78125 6.390625 \nQ 39.453125 6.390625 43.28125 13.890625 \nQ 47.125 21.390625 47.125 36.375 \nQ 47.125 51.421875 43.28125 58.90625 \nQ 39.453125 66.40625 31.78125 66.40625 \nz\nM 31.78125 74.21875 \nQ 44.046875 74.21875 50.515625 64.515625 \nQ 56.984375 54.828125 56.984375 36.375 \nQ 56.984375 17.96875 50.515625 8.265625 \nQ 44.046875 -1.421875 31.78125 -1.421875 \nQ 19.53125 -1.421875 13.0625 8.265625 \nQ 6.59375 17.96875 6.59375 36.375 \nQ 6.59375 54.828125 13.0625 64.515625 \nQ 19.53125 74.21875 31.78125 74.21875 \nz\n\" id=\"DejaVuSans-48\"/>\n        <path d=\"M 10.6875 12.40625 \nL 21 12.40625 \nL 21 0 \nL 10.6875 0 \nz\n\" id=\"DejaVuSans-46\"/>\n        <path d=\"M 31.78125 34.625 \nQ 24.75 34.625 20.71875 30.859375 \nQ 16.703125 27.09375 16.703125 20.515625 \nQ 16.703125 13.921875 20.71875 10.15625 \nQ 24.75 6.390625 31.78125 6.390625 \nQ 38.8125 6.390625 42.859375 10.171875 \nQ 46.921875 13.96875 46.921875 20.515625 \nQ 46.921875 27.09375 42.890625 30.859375 \nQ 38.875 34.625 31.78125 34.625 \nz\nM 21.921875 38.8125 \nQ 15.578125 40.375 12.03125 44.71875 \nQ 8.5 49.078125 8.5 55.328125 \nQ 8.5 64.0625 14.71875 69.140625 \nQ 20.953125 74.21875 31.78125 74.21875 \nQ 42.671875 74.21875 48.875 69.140625 \nQ 55.078125 64.0625 55.078125 55.328125 \nQ 55.078125 49.078125 51.53125 44.71875 \nQ 48 40.375 41.703125 38.8125 \nQ 48.828125 37.15625 52.796875 32.3125 \nQ 56.78125 27.484375 56.78125 20.515625 \nQ 56.78125 9.90625 50.3125 4.234375 \nQ 43.84375 -1.421875 31.78125 -1.421875 \nQ 19.734375 -1.421875 13.25 4.234375 \nQ 6.78125 9.90625 6.78125 20.515625 \nQ 6.78125 27.484375 10.78125 32.3125 \nQ 14.796875 37.15625 21.921875 38.8125 \nz\nM 18.3125 54.390625 \nQ 18.3125 48.734375 21.84375 45.5625 \nQ 25.390625 42.390625 31.78125 42.390625 \nQ 38.140625 42.390625 41.71875 45.5625 \nQ 45.3125 48.734375 45.3125 54.390625 \nQ 45.3125 60.0625 41.71875 63.234375 \nQ 38.140625 66.40625 31.78125 66.40625 \nQ 25.390625 66.40625 21.84375 63.234375 \nQ 18.3125 60.0625 18.3125 54.390625 \nz\n\" id=\"DejaVuSans-56\"/>\n        <path d=\"M 37.796875 64.3125 \nL 12.890625 25.390625 \nL 37.796875 25.390625 \nz\nM 35.203125 72.90625 \nL 47.609375 72.90625 \nL 47.609375 25.390625 \nL 58.015625 25.390625 \nL 58.015625 17.1875 \nL 47.609375 17.1875 \nL 47.609375 0 \nL 37.796875 0 \nL 37.796875 17.1875 \nL 4.890625 17.1875 \nL 4.890625 26.703125 \nz\n\" id=\"DejaVuSans-52\"/>\n       </defs>\n       <use xlink:href=\"#DejaVuSans-48\"/>\n       <use x=\"63.623047\" xlink:href=\"#DejaVuSans-46\"/>\n       <use x=\"95.410156\" xlink:href=\"#DejaVuSans-56\"/>\n       <use x=\"159.033203\" xlink:href=\"#DejaVuSans-52\"/>\n      </g>\n     </g>\n    </g>\n    <g id=\"ytick_4\">\n     <g id=\"line2d_6\">\n      <g>\n       <use style=\"stroke:#000000;stroke-width:0.8;\" x=\"319.330125\" xlink:href=\"#m3ecdd6d84b\" y=\"189.620573\"/>\n      </g>\n     </g>\n     <g id=\"text_6\">\n      <!-- 0.86 -->\n      <g transform=\"translate(326.330125 193.419791)scale(0.1 -0.1)\">\n       <defs>\n        <path d=\"M 33.015625 40.375 \nQ 26.375 40.375 22.484375 35.828125 \nQ 18.609375 31.296875 18.609375 23.390625 \nQ 18.609375 15.53125 22.484375 10.953125 \nQ 26.375 6.390625 33.015625 6.390625 \nQ 39.65625 6.390625 43.53125 10.953125 \nQ 47.40625 15.53125 47.40625 23.390625 \nQ 47.40625 31.296875 43.53125 35.828125 \nQ 39.65625 40.375 33.015625 40.375 \nz\nM 52.59375 71.296875 \nL 52.59375 62.3125 \nQ 48.875 64.0625 45.09375 64.984375 \nQ 41.3125 65.921875 37.59375 65.921875 \nQ 27.828125 65.921875 22.671875 59.328125 \nQ 17.53125 52.734375 16.796875 39.40625 \nQ 19.671875 43.65625 24.015625 45.921875 \nQ 28.375 48.1875 33.59375 48.1875 \nQ 44.578125 48.1875 50.953125 41.515625 \nQ 57.328125 34.859375 57.328125 23.390625 \nQ 57.328125 12.15625 50.6875 5.359375 \nQ 44.046875 -1.421875 33.015625 -1.421875 \nQ 20.359375 -1.421875 13.671875 8.265625 \nQ 6.984375 17.96875 6.984375 36.375 \nQ 6.984375 53.65625 15.1875 63.9375 \nQ 23.390625 74.21875 37.203125 74.21875 \nQ 40.921875 74.21875 44.703125 73.484375 \nQ 48.484375 72.75 52.59375 71.296875 \nz\n\" id=\"DejaVuSans-54\"/>\n       </defs>\n       <use xlink:href=\"#DejaVuSans-48\"/>\n       <use x=\"63.623047\" xlink:href=\"#DejaVuSans-46\"/>\n       <use x=\"95.410156\" xlink:href=\"#DejaVuSans-56\"/>\n       <use x=\"159.033203\" xlink:href=\"#DejaVuSans-54\"/>\n      </g>\n     </g>\n    </g>\n    <g id=\"ytick_5\">\n     <g id=\"line2d_7\">\n      <g>\n       <use style=\"stroke:#000000;stroke-width:0.8;\" x=\"319.330125\" xlink:href=\"#m3ecdd6d84b\" y=\"164.103236\"/>\n      </g>\n     </g>\n     <g id=\"text_7\">\n      <!-- 0.88 -->\n      <g transform=\"translate(326.330125 167.902455)scale(0.1 -0.1)\">\n       <use xlink:href=\"#DejaVuSans-48\"/>\n       <use x=\"63.623047\" xlink:href=\"#DejaVuSans-46\"/>\n       <use x=\"95.410156\" xlink:href=\"#DejaVuSans-56\"/>\n       <use x=\"159.033203\" xlink:href=\"#DejaVuSans-56\"/>\n      </g>\n     </g>\n    </g>\n    <g id=\"ytick_6\">\n     <g id=\"line2d_8\">\n      <g>\n       <use style=\"stroke:#000000;stroke-width:0.8;\" x=\"319.330125\" xlink:href=\"#m3ecdd6d84b\" y=\"138.5859\"/>\n      </g>\n     </g>\n     <g id=\"text_8\">\n      <!-- 0.90 -->\n      <g transform=\"translate(326.330125 142.385119)scale(0.1 -0.1)\">\n       <defs>\n        <path d=\"M 10.984375 1.515625 \nL 10.984375 10.5 \nQ 14.703125 8.734375 18.5 7.8125 \nQ 22.3125 6.890625 25.984375 6.890625 \nQ 35.75 6.890625 40.890625 13.453125 \nQ 46.046875 20.015625 46.78125 33.40625 \nQ 43.953125 29.203125 39.59375 26.953125 \nQ 35.25 24.703125 29.984375 24.703125 \nQ 19.046875 24.703125 12.671875 31.3125 \nQ 6.296875 37.9375 6.296875 49.421875 \nQ 6.296875 60.640625 12.9375 67.421875 \nQ 19.578125 74.21875 30.609375 74.21875 \nQ 43.265625 74.21875 49.921875 64.515625 \nQ 56.59375 54.828125 56.59375 36.375 \nQ 56.59375 19.140625 48.40625 8.859375 \nQ 40.234375 -1.421875 26.421875 -1.421875 \nQ 22.703125 -1.421875 18.890625 -0.6875 \nQ 15.09375 0.046875 10.984375 1.515625 \nz\nM 30.609375 32.421875 \nQ 37.25 32.421875 41.125 36.953125 \nQ 45.015625 41.5 45.015625 49.421875 \nQ 45.015625 57.28125 41.125 61.84375 \nQ 37.25 66.40625 30.609375 66.40625 \nQ 23.96875 66.40625 20.09375 61.84375 \nQ 16.21875 57.28125 16.21875 49.421875 \nQ 16.21875 41.5 20.09375 36.953125 \nQ 23.96875 32.421875 30.609375 32.421875 \nz\n\" id=\"DejaVuSans-57\"/>\n       </defs>\n       <use xlink:href=\"#DejaVuSans-48\"/>\n       <use x=\"63.623047\" xlink:href=\"#DejaVuSans-46\"/>\n       <use x=\"95.410156\" xlink:href=\"#DejaVuSans-57\"/>\n       <use x=\"159.033203\" xlink:href=\"#DejaVuSans-48\"/>\n      </g>\n     </g>\n    </g>\n    <g id=\"ytick_7\">\n     <g id=\"line2d_9\">\n      <g>\n       <use style=\"stroke:#000000;stroke-width:0.8;\" x=\"319.330125\" xlink:href=\"#m3ecdd6d84b\" y=\"113.068564\"/>\n      </g>\n     </g>\n     <g id=\"text_9\">\n      <!-- 0.92 -->\n      <g transform=\"translate(326.330125 116.867783)scale(0.1 -0.1)\">\n       <defs>\n        <path d=\"M 19.1875 8.296875 \nL 53.609375 8.296875 \nL 53.609375 0 \nL 7.328125 0 \nL 7.328125 8.296875 \nQ 12.9375 14.109375 22.625 23.890625 \nQ 32.328125 33.6875 34.8125 36.53125 \nQ 39.546875 41.84375 41.421875 45.53125 \nQ 43.3125 49.21875 43.3125 52.78125 \nQ 43.3125 58.59375 39.234375 62.25 \nQ 35.15625 65.921875 28.609375 65.921875 \nQ 23.96875 65.921875 18.8125 64.3125 \nQ 13.671875 62.703125 7.8125 59.421875 \nL 7.8125 69.390625 \nQ 13.765625 71.78125 18.9375 73 \nQ 24.125 74.21875 28.421875 74.21875 \nQ 39.75 74.21875 46.484375 68.546875 \nQ 53.21875 62.890625 53.21875 53.421875 \nQ 53.21875 48.921875 51.53125 44.890625 \nQ 49.859375 40.875 45.40625 35.40625 \nQ 44.1875 33.984375 37.640625 27.21875 \nQ 31.109375 20.453125 19.1875 8.296875 \nz\n\" id=\"DejaVuSans-50\"/>\n       </defs>\n       <use xlink:href=\"#DejaVuSans-48\"/>\n       <use x=\"63.623047\" xlink:href=\"#DejaVuSans-46\"/>\n       <use x=\"95.410156\" xlink:href=\"#DejaVuSans-57\"/>\n       <use x=\"159.033203\" xlink:href=\"#DejaVuSans-50\"/>\n      </g>\n     </g>\n    </g>\n    <g id=\"ytick_8\">\n     <g id=\"line2d_10\">\n      <g>\n       <use style=\"stroke:#000000;stroke-width:0.8;\" x=\"319.330125\" xlink:href=\"#m3ecdd6d84b\" y=\"87.551228\"/>\n      </g>\n     </g>\n     <g id=\"text_10\">\n      <!-- 0.94 -->\n      <g transform=\"translate(326.330125 91.350446)scale(0.1 -0.1)\">\n       <use xlink:href=\"#DejaVuSans-48\"/>\n       <use x=\"63.623047\" xlink:href=\"#DejaVuSans-46\"/>\n       <use x=\"95.410156\" xlink:href=\"#DejaVuSans-57\"/>\n       <use x=\"159.033203\" xlink:href=\"#DejaVuSans-52\"/>\n      </g>\n     </g>\n    </g>\n    <g id=\"ytick_9\">\n     <g id=\"line2d_11\">\n      <g>\n       <use style=\"stroke:#000000;stroke-width:0.8;\" x=\"319.330125\" xlink:href=\"#m3ecdd6d84b\" y=\"62.033891\"/>\n      </g>\n     </g>\n     <g id=\"text_11\">\n      <!-- 0.96 -->\n      <g transform=\"translate(326.330125 65.83311)scale(0.1 -0.1)\">\n       <use xlink:href=\"#DejaVuSans-48\"/>\n       <use x=\"63.623047\" xlink:href=\"#DejaVuSans-46\"/>\n       <use x=\"95.410156\" xlink:href=\"#DejaVuSans-57\"/>\n       <use x=\"159.033203\" xlink:href=\"#DejaVuSans-54\"/>\n      </g>\n     </g>\n    </g>\n    <g id=\"ytick_10\">\n     <g id=\"line2d_12\">\n      <g>\n       <use style=\"stroke:#000000;stroke-width:0.8;\" x=\"319.330125\" xlink:href=\"#m3ecdd6d84b\" y=\"36.516555\"/>\n      </g>\n     </g>\n     <g id=\"text_12\">\n      <!-- 0.98 -->\n      <g transform=\"translate(326.330125 40.315774)scale(0.1 -0.1)\">\n       <use xlink:href=\"#DejaVuSans-48\"/>\n       <use x=\"63.623047\" xlink:href=\"#DejaVuSans-46\"/>\n       <use x=\"95.410156\" xlink:href=\"#DejaVuSans-57\"/>\n       <use x=\"159.033203\" xlink:href=\"#DejaVuSans-56\"/>\n      </g>\n     </g>\n    </g>\n    <g id=\"ytick_11\">\n     <g id=\"line2d_13\">\n      <g>\n       <use style=\"stroke:#000000;stroke-width:0.8;\" x=\"319.330125\" xlink:href=\"#m3ecdd6d84b\" y=\"10.999219\"/>\n      </g>\n     </g>\n     <g id=\"text_13\">\n      <!-- 1.00 -->\n      <g transform=\"translate(326.330125 14.798438)scale(0.1 -0.1)\">\n       <defs>\n        <path d=\"M 12.40625 8.296875 \nL 28.515625 8.296875 \nL 28.515625 63.921875 \nL 10.984375 60.40625 \nL 10.984375 69.390625 \nL 28.421875 72.90625 \nL 38.28125 72.90625 \nL 38.28125 8.296875 \nL 54.390625 8.296875 \nL 54.390625 0 \nL 12.40625 0 \nz\n\" id=\"DejaVuSans-49\"/>\n       </defs>\n       <use xlink:href=\"#DejaVuSans-49\"/>\n       <use x=\"63.623047\" xlink:href=\"#DejaVuSans-46\"/>\n       <use x=\"95.410156\" xlink:href=\"#DejaVuSans-48\"/>\n       <use x=\"159.033203\" xlink:href=\"#DejaVuSans-48\"/>\n      </g>\n     </g>\n    </g>\n   </g>\n   <g id=\"patch_4\">\n    <path d=\"M 308.458125 228.439219 \nL 308.458125 227.589844 \nL 308.458125 11.848594 \nL 308.458125 10.999219 \nL 319.330125 10.999219 \nL 319.330125 11.848594 \nL 319.330125 227.589844 \nL 319.330125 228.439219 \nz\n\" style=\"fill:none;\"/>\n   </g>\n  </g>\n </g>\n <defs>\n  <clipPath id=\"pb30e516930\">\n   <rect height=\"217.44\" width=\"267.84\" x=\"23.878125\" y=\"10.999219\"/>\n  </clipPath>\n  <clipPath id=\"pf2a6e52a2f\">\n   <rect height=\"217.44\" width=\"10.872\" x=\"308.458125\" y=\"10.999219\"/>\n  </clipPath>\n </defs>\n</svg>\n",
      "image/png": "[encoded data removed]"
     },
     "metadata": {
      "needs_background": "light"
     }
    }
   ],
   "source": [
    "corr = data.corr()\n",
    "sns.heatmap(corr)"
   ]
  },
  {
   "cell_type": "code",
   "execution_count": 23,
   "metadata": {},
   "outputs": [
    {
     "output_type": "stream",
     "name": "stdout",
     "text": [
      "[[4.1]\n [3.7]\n [1.3]\n [3.2]\n [3.9]\n [2. ]\n [1.1]\n [2.9]\n [4. ]]****\n[[3.2]\n [3. ]\n [2.2]\n [4. ]\n [1.5]]****"
     ]
    }
   ],
   "source": [
    "X = data.iloc[:,:-1].values \n",
    "Y = data.iloc[:,1].values\n",
    "X_train, X_test, Y_train, Y_test = train_test_split(  \n",
    "X, Y, test_size = 1/3, random_state = 0 ) \n",
    "weights  = np.zeros(n) \n",
    "\n"
   ]
  },
  {
   "cell_type": "code",
   "execution_count": 46,
   "metadata": {
    "tags": []
   },
   "outputs": [
    {
     "output_type": "stream",
     "name": "stdout",
     "text": [
      "dimensions of weight are  2\nvalues of W are  [0. 0.]\nlength of X is  8\nlength of y is  8\nX is  [[3.7000e+00 5.7189e+04]\n [1.5000e+00 3.7731e+04]\n [3.2000e+00 6.4445e+04]\n [3.9000e+00 6.3218e+04]\n [2.2000e+00 3.9891e+04]\n [1.3000e+00 4.6205e+04]\n [3.0000e+00 6.0150e+04]\n [4.1000e+00 5.7081e+04]]\nY is  [57189 37731 64445 63218 39891 46205 60150 57081]\n0.0\n0.0\n0.0\n0.0\n0.0\n0.0\n0.0\n0.0\n33521819430178.84\n55638166405880.25\n93413152004495.31\n130468921127724.1\n153851370518174.88\n180934824743146.2\n216192259513634.6\n249650773837031.62\n-1.900261099831195e+22\n-3.1539768749203875e+22\n-5.295338438850012e+22\n-7.3959295698316586e+22\n-8.721417259675042e+22\n-1.0256704883957604e+23\n-1.2255353313966052e+23\n-1.4152025818836693e+23\n1.0772065226062338e+31\n1.7879040212501717e+31\n3.001783863408802e+31\n4.19255205196102e+31\n4.943935104142848e+31\n5.814248053821562e+31\n6.947227687721904e+31\n8.022399933091791e+31\n-6.10639186608879e+39\n-1.0135143395061268e+40\n-1.701629927279649e+40\n-2.3766441449229e+40\n-2.8025828355891177e+40\n-3.2959396622830195e+40\n-3.938195114297423e+40\n-4.547681124267589e+40\n3.461548072696339e+48\n5.745338139942628e+48\n9.646078935628585e+48\n1.3472551614366506e+49\n1.5887082627271876e+49\n1.8683788783779498e+49\n2.2324560897415822e+49\n2.5779571924244886e+49\n-1.962257798444e+57\n-3.256876499484384e+57\n-5.46810075097404e+57\n-7.637224419546321e+57\n-9.00595661975173e+57\n-1.0591333552358854e+58\n-1.2655188602846558e+58\n-1.4613740727134817e+58\n1.1123507710106767e+66\n1.8462350299541422e+66\n3.0997181364921537e+66\n4.329335563451633e+66\n5.105232756681249e+66\n6.003939977886569e+66\n7.17388347791226e+66\n8.28413360266355e+66\n-6.30561508660687e+74\n-1.0465806076372275e+75\n-1.757146212784551e+75\n-2.454183010911245e+75\n-2.894018103832454e+75\n-3.4034708736027203e+75\n-4.066680139645367e+75\n-4.696050848866703e+75\n3.5744823176881243e+83\n5.93278185339986e+83\n9.96078571388165e+83\n1.3912098433514442e+84\n1.6405404385038332e+84\n1.9293354081030599e+84\n2.305290768815067e+84\n2.662063968651005e+84\n-2.026277161541823e+92\n-3.3631332611344546e+92\n-5.646499495374328e+92\n-7.886391600108527e+92\n-9.299779178306631e+92\n-1.0936879600852727e+93\n-1.3068068661154647e+93\n-1.509051924959489e+93\n1.1486416130997965e+101\n1.9064691086976576e+101\n3.200847550292091e+101\n4.4705816859686165e+101\n5.2717928028729595e+101\n6.199820668877654e+101\n7.407933994392877e+101\n8.554406426897112e+101\n-6.511338036009694e+109\n-1.080725674602739e+110\n-1.8144737369770498e+110\n-2.5342516101588166e+110\n-2.98843648043304e+110\n-3.514510329184353e+110\n-4.1993570349386897e+110\n-4.849261188842332e+110\n3.691101082849501e+118\n6.126340985107301e+118\n1.028575991342987e+119\n1.4365985624980338e+119\n1.6940636575694012e+119\n1.9922806664308788e+119\n2.3805017053657374e+119\n2.748914758559364e+119\n-2.0923851792775325e+127\n-3.472856687669775e+127\n-5.830718562671543e+127\n-8.143687949130209e+127\n-9.603187803013173e+127\n-1.1293699212872804e+128\n-1.3494419079162483e+128\n-1.5582852842021208e+128\n1.1861164569029988e+136\n1.9686683458219946e+136\n3.3052763474182466e+136\n4.61643601379417e+136\n5.443786930194677e+136\n6.402092037531149e+136\n7.649620492756038e+136\n8.833496998770051e+136\n-6.723772770278816e+144\n-1.1159847366008077e+145\n-1.8736715921676912e+145\n-2.616932476118757e+145\n-3.085935290368883e+145\n-3.6291724867527987e+145\n-4.336362561434908e+145\n-5.007470071003913e+145\n3.811524576969939e+153\n6.326215052774484e+153\n1.0621336512568397e+154\n1.483468104854446e+154\n1.7493330908165307e+154\n2.0572795363439694e+154\n2.458166425644408e+154\n2.838599086578202e+154\n-2.16064999475636e+162\n-3.5861598802731786e+162\n-6.02094784298368e+162\n-8.40937868364233e+162\n-9.916495242711046e+162\n-1.1662160192464688e+163\n-1.3934679332177212e+163\n-1.6091248994139624e+163\n1.2248139309000386e+171\n2.032896855322788e+171\n3.4131121714327082e+171\n4.7670488912760716e+171\n5.621392427488491e+171\n6.610962581993444e+171\n7.899192099644095e+171\n9.121693000455566e+171\n-6.943138263798098e+179\n-1.1523941381181454e+180\n-1.9348007985748082e+180\n-2.702310834927665e+180\n-3.186615033880244e+180\n-3.747575538257188e+180\n-4.477837942276529e+180\n-5.170840574579581e+180\n3.935876930693698e+188\n6.532610083447634e+188\n1.0967861418379175e+189\n1.5318667828079867e+189\n1.8064057091079826e+189\n2.124399017655427e+189\n2.5383649852235797e+189\n2.931209397902686e+189\n-2.231141974276737e+197\n-3.7031596300940746e+197\n-6.21738342166181e+197\n-8.683737673476432e+197\n-1.0240024449782796e+198\n-1.204264234341264e+198\n-1.43893032335452e+198\n-1.661623175270996e+198\n1.2647739238386518e+206\n2.0992208429377343e+206\n3.5244661778073116e+206\n4.922575567800264e+206\n5.804792367708428e+206\n6.826647602737589e+206\n8.156906069545281e+206\n9.419291499860737e+206\n-7.16966063506906e+214\n-1.1899914093933513e+215\n-1.9979243672231976e+215\n-2.7904746932553508e+215\n-3.290579490063691e+215\n-3.8698415317012964e+215\n-4.623929008061628e+215\n-5.339541099315659e+215\n4.064286324471736e+223\n6.745738825879111e+223\n1.132569182328652e+224\n1.5818444849548925e+224\n1.8653403420013084e+224\n2.193708296071232e+224\n2.6211800515174615e+224\n3.0268411537855695e+224\n-2.3039337798627708e+232\n-3.82397653863493e+232\n-6.420227781411773e+232\n-8.967047723565341e+232\n-1.0574108913048048e+233\n-1.243553786073533e+233\n-1.485875940243568e+233\n-1.715834226170517e+233\n1.3060376258512463e+241\n2.1677086743904172e+241\n3.639453148500946e+241\n5.083176357819477e+241\n5.994175796629169e+241\n7.049369424491635e+241\n8.423028049967594e+241\n9.726599256839448e+241\n-7.403573379790277e+249\n-1.2288153051024941e+250\n-2.0631073648948962e+250\n-2.8815149290207305e+250\n-3.397935823845969e+250\n-3.9960964969487105e+250\n-4.7747863471637486e+250\n-5.513745539060473e+250\n4.196885120688109e+258\n6.9658209698254744e+258\n1.1695196573245447e+259\n1.6334527275247095e+259\n1.926197738389433e+259\n2.2652788145057874e+259\n2.7066969889942426e+259\n3.125592929937145e+259\n-2.3791004441631135e+267\n-3.948735142065398e+267\n-6.629690011010168e+267\n-9.259600865454053e+267\n-1.0919093001518547e+268\n-1.2841251734954309e+268\n-1.534353174688604e+268\n-1.771813932011403e+268\n1.3486475709130463e+276\n2.2384309458606293e+276\n3.758191610275005e+276\n5.249016806102855e+276\n6.189737927711472e+276\n7.279357625407474e+276\n8.697832355264077e+276\n1.0043933039395632e+277\n-7.64511761154107e+284\n-1.2689058443068217e+285\n-2.1304169811989979e+285\n-2.9755253850673584e+285\n-3.508794696447922e+285\n-4.126470575632437e+285\n-4.93056546095603e+285\n-5.693633461011409e+285\n4.333810000097042e+293\n7.193083372500243e+293\n1.2076756547942308e+294\n1.6867447074824174e+294\n1.9890406291196635e+294\n2.339184346724158e+294\n2.79500394716845e+294\n3.227566518135549e+294\n-2.4567194477934447e+302\n-4.077564039592255e+302\n-6.8459860208297895e+302\n-9.561698658321272e+302\n-1.1275332319368333e+303\n-1.326020216955188e+303\n-1.5844119962606617e+303\n-1.829619995794238e+303\ninf\ninf\ninf\ninf\ninf\ninf\ninf\ninf\nPredicted values  nan\nReal values       [54445 56957 56642 55794 43525]\nTrained W         nan\nTrained b         nan\n"
     ]
    }
   ],
   "source": [
    " \n",
    "import numpy as np \n",
    "import math\n",
    "import pandas as pd \n",
    "  \n",
    "from sklearn.model_selection import train_test_split \n",
    "  \n",
    "import matplotlib.pyplot as plt \n",
    "  \n",
    "# Linear Regression \n",
    "  \n",
    "class LinearRegression() : \n",
    "      \n",
    "    def __init__( self, learning_rate, iterations ) : \n",
    "          \n",
    "        self.learning_rate = learning_rate \n",
    "          \n",
    "        self.iterations = iterations \n",
    "          \n",
    "    # Function for model training \n",
    "              \n",
    "    def fit( self, X, Y ) : \n",
    "          \n",
    "        # no_of_training_examples, no_of_features \n",
    "        self.m, self.n = X.shape \n",
    "        \n",
    "        # weight initialization \n",
    "        self.W = np.zeros( self.n ) \n",
    "         \n",
    "        self.b = 0\n",
    "          \n",
    "        self.X = X \n",
    "          \n",
    "        self.Y = Y \n",
    "        \n",
    "        # gradient descent learning \n",
    "                  \n",
    "        for i in range( self.iterations ) : \n",
    "            self.update_weights() \n",
    "        return self\n",
    "      \n",
    "    # Helper function to update weights in gradient descent \n",
    "      \n",
    "    def update_weights( self ) : \n",
    "\n",
    "        Y_pred = self.predict( self.X ) \n",
    "        # calculate gradients   \n",
    "      \n",
    "        dW = - ( 2 * ( self.X.T ).dot( self.Y - Y_pred )  ) / self.m \n",
    "        db = - 2 * np.sum( self.Y - Y_pred ) / self.m  \n",
    "          \n",
    "        # update weights \n",
    "        self.W = self.W - self.learning_rate * dW \n",
    "        self.b = self.b - self.learning_rate * db \n",
    "          \n",
    "        return self\n",
    "      \n",
    "    # Hypothetical function  h( x )  \n",
    "      \n",
    "    def predict( self, X ) :\n",
    "        Wa = 0\n",
    "        for l in X:\n",
    "            Wa =Wa + l.dot(self.W)\n",
    "            if not math.isnan(Wa):\n",
    "                print(Wa)\n",
    "        a = (Wa/len(X))+self.b         \n",
    "        return a \n",
    "    \n",
    "    \n",
    "    def cost_function(X, Y, B):\n",
    "        m = len(Y)\n",
    "        J = np.sum((X.dot(B) — Y) ** 2)/(2 * m)\n",
    "        return J\n",
    "     \n",
    "  \n",
    "# driver code \n",
    "  \n",
    "def main() : \n",
    "      \n",
    "    # Importing dataset \n",
    "      \n",
    "    df = pd.read_csv( \"salaries.csv\" ) \n",
    "  \n",
    "    X = df.iloc[:,:-1].values \n",
    "  \n",
    "    Y = df.iloc[:,1].values \n",
    "    \n",
    "    X_train, X_test, Y_train, Y_test = train_test_split(  \n",
    "      X, Y, test_size = 1/3, random_state = 0 ) \n",
    "      \n",
    "    # Model training \n",
    "      \n",
    "    model = LinearRegression( iterations = 1000, learning_rate = 0.1 ) \n",
    "  \n",
    "    model.fit( X_train, Y_train ) \n",
    "      \n",
    "    # Prediction on test set \n",
    "  \n",
    "    Y_pred = model.predict( X_test ) \n",
    "      \n",
    "    print( \"Predicted values \", Y_pred)  \n",
    "      \n",
    "    print( \"Real values      \", Y_test) \n",
    "      \n",
    "    print( \"Trained W        \", round( model.W[0], 2 ) ) \n",
    "      \n",
    "    print( \"Trained b        \", round( model.b, 2 ) ) \n",
    "      \n",
    "    # Visualization on test set  \n",
    "      \n",
    "    \n",
    "if __name__ == \"__main__\" :  \n",
    "      \n",
    "    main()"
   ]
  },
  {
   "cell_type": "code",
   "execution_count": null,
   "metadata": {},
   "outputs": [],
   "source": [
    "import pandas as pd\n",
    "import numpy\n",
    "from numpy import asarray\n",
    "from sklearn.model_selection import train_test_split\n",
    "from sklearn.preprocessing import OrdinalEncoder,LabelEncoder\n",
    "\n",
    "headers = [\"carat\",\t\"cut\",\"color\",\"clarity\",\"depth\",\"table\",\"price\",\"x\",\"y\",\"z\"]\n",
    "data = pd.read_csv('diamonds1.1.csv', na_values='?',    \n",
    "         header=None,  names = headers) \n",
    "#data = data.reset_index(drop=True)\n",
    "#print(type(data))\n",
    "\n",
    "data = data.iloc[1:,:]\n",
    "\n",
    "\n",
    "d_cut = {\"Ideal\":5,\"Premium\":4,\"Very Good\":3,\"Good\":2,\"Fair\":1}\n",
    "d_color = {\"D\":7,\"E\":6,\"F\":5,\"G\":4,\"H\":3,\"I\":2,\"J\":1}\n",
    "d_clarity = {\"IF\":8,\"VVS1\":7,\"VVS2\":6,\"VS1\":5,\"VS2\":4,\"SI1\":3,\"SI2\":2,\"I1\":4}\n",
    " \n",
    "\n",
    "\n",
    "data[\"cut\"] = data[\"cut\"].map(d_cut)\n",
    "data[\"color\"] = data[\"color\"].map(d_color)\n",
    "data[\"clarity\"] = data[\"clarity\"].map(d_clarity)\n",
    "\n",
    "\n",
    "max_price_global = data[\"price\"].max()\n",
    "\n",
    "n = data.values.astype(numpy.double)\n",
    "\n",
    "n = n / n.max(axis=0) #normalise data\n",
    "\n",
    "X_train , X_test = train_test_split(n, test_size=0.15, random_state=42)"
   ]
  },
  {
   "cell_type": "code",
   "execution_count": null,
   "metadata": {},
   "outputs": [],
   "source": []
  },
  {
   "cell_type": "code",
   "execution_count": 6,
   "metadata": {},
   "outputs": [],
   "source": [
    "columns = np.full((corr.shape[0],), True, dtype=bool)\n",
    "for i in range(corr.shape[0]):\n",
    "    for j in range(i+1, corr.shape[0]):\n",
    "        if corr.iloc[i,j] >= 0.8:\n",
    "            if columns[j]:\n",
    "                columns[j] = False\n",
    "selected_columns = data.columns[columns]\n",
    "data = data[selected_columns]"
   ]
  },
  {
   "cell_type": "code",
   "execution_count": 7,
   "metadata": {},
   "outputs": [
    {
     "output_type": "stream",
     "name": "stdout",
     "text": [
      "     carat  cut  color  clarity  depth  table  price     x\n0     1.03    5      7        8   62.0   56.0  17590  6.55\n1     2.53    4      3        2   59.6   59.0  17591  8.90\n2     2.01    4      2        4   61.1   60.0  17592  8.12\n3     1.71    5      4        5   62.2   55.0  17595  7.72\n4     1.70    3      5        4   60.8   60.0  17597  7.65\n..     ...  ...    ...      ...    ...    ...    ...   ...\n418   1.60    5      5        5   60.5   57.0  18571  7.60\n419   2.01    2      4        3   63.1   59.0  18572  7.98\n420   2.01    1      4        3   70.6   64.0  18574  7.43\n421   2.11    4      7        2   60.9   60.0  18575  8.28\n422   2.03    5      5        2   61.6   55.0  18578  8.19\n\n[423 rows x 8 columns]\n"
     ]
    }
   ],
   "source": [
    "print(data)"
   ]
  },
  {
   "cell_type": "code",
   "execution_count": 9,
   "metadata": {},
   "outputs": [
    {
     "output_type": "stream",
     "name": "stdout",
     "text": [
      "8\n423\n"
     ]
    }
   ],
   "source": [
    "iterations = 1000\n",
    "learning_rate = 0.01\n",
    "rows , cols = data.shape\n",
    "print(cols)\n",
    "print(rows)"
   ]
  },
  {
   "cell_type": "code",
   "execution_count": 56,
   "metadata": {},
   "outputs": [
    {
     "output_type": "stream",
     "name": "stdout",
     "text": [
      "[95 95]\n(2,)\n"
     ]
    }
   ],
   "source": [
    "import numpy as np \n",
    "\n",
    "def cost_function(X, Y, B):\n",
    "    m = len(Y)\n",
    "    J = X.dot(W)\n",
    "    return J\n",
    "\n",
    "X = np.array([[1, 2, 3, 4, 5],[1, 2, 3, 4, 5]])\n",
    "\n",
    "w = np.array([6,7,8,9,3])\n",
    "loss = X.dot(w)\n",
    "print(loss)\n",
    "m  = loss.T.shape\n",
    "print (m)\n",
    "# g = X.dot(loss)\n",
    "# print(g)"
   ]
  },
  {
   "cell_type": "code",
   "execution_count": 93,
   "metadata": {},
   "outputs": [
    {
     "output_type": "stream",
     "name": "stdout",
     "text": [
      "<class 'pandas.core.frame.DataFrame'>\n"
     ]
    }
   ],
   "source": [
    "import numpy as np\n",
    "from matplotlib import pyplot as plt\n",
    "import pandas as pd\n",
    "%matplotlib inline\n",
    "headers = [\"carat\",\t\"cut\",\"color\",\"clarity\",\"depth\",\"table\",\"price\",\"x\",\"y\",\"z\"]\n",
    "data = pd.read_csv('diamonds1.1.csv', na_values='?',    \n",
    "         header=None,  names = headers) \n",
    "#data = data.reset_index(drop=True)\n",
    "print(type(data))\n",
    "\n",
    "data = data.iloc[1:,:]\n",
    "\n",
    "#print(type(data))\n",
    "\n",
    "d_cut = {\"Ideal\":5,\"Premium\":4,\"Very Good\":3,\"Good\":2,\"Fair\":1}\n",
    "d_color = {\"D\":7,\"E\":6,\"F\":5,\"G\":4,\"H\":3,\"I\":2,\"J\":1}\n",
    "d_clarity = {\"IF\":8,\"VVS1\":7,\"VVS2\":6,\"VS1\":5,\"VS2\":4,\"SI1\":3,\"SI2\":2,\"I1\":4}\n",
    " \n",
    "#label_encoder = LabelEncoder()\n",
    "#data[:,3] =label_encoder.fit(data[:,3].values)\n",
    "#print(label_encoder.classes_)\n",
    "# data[:,1] =label_encoder.fit_transform(data[:,1])\n",
    "# data[:,2] =label_encoder.fit_transform(data[:,2])\n",
    "# data[:,3] =label_encoder.fit_transform(data[:,3])\n",
    "\n",
    "\n",
    "data[\"cut\"] = data[\"cut\"].map(d_cut)\n",
    "data[\"color\"] = data[\"color\"].map(d_color)\n",
    "data[\"clarity\"] = data[\"clarity\"].map(d_clarity)"
   ]
  },
  {
   "cell_type": "code",
   "execution_count": 96,
   "metadata": {},
   "outputs": [],
   "source": [
    "\n",
    "\n",
    "\n",
    "from sklearn.preprocessing import StandardScaler\n",
    "import numpy\n",
    "#print(type(data))\n",
    "\n",
    "k = data.values\n",
    "d = k.astype(numpy.double)\n",
    "X = d[:,:]\n",
    "y = d[:,6]\n",
    "\n",
    "\n",
    "sc = StandardScaler()\n",
    "X = sc.fit_transform(X)\n",
    "def cost_function(X, Y, B):\n",
    "    m = len(Y)\n",
    "    J = np.sum((X.dot(B) - Y) ** 2)/(2 * m)\n",
    "    return J\n",
    "\n",
    "\n",
    "def batch_gradient_descent(X, Y, B, alpha, iterations):\n",
    "    cost_history = [0] * iterations\n",
    "    m = len(Y)\n",
    " \n",
    "    for iteration in range(iterations):\n",
    "    #print(iteration)\n",
    "    # Hypothesis Values\n",
    "        h = X.dot(B)\n",
    "        # Difference b/w Hypothesis and Actual Y\n",
    "        loss = h - Y\n",
    "        # Gradient Calculation\n",
    "        gradient = X.T.dot(loss) / m\n",
    "        # Changing Values of B using Gradient\n",
    "        B = B - alpha * gradient\n",
    "        # New Cost Value\n",
    "        cost = cost_function(X, Y, B)\n",
    "        cost_history[iteration] = cost\n",
    "        \n",
    "    return B, cost_history\n"
   ]
  },
  {
   "cell_type": "code",
   "execution_count": 97,
   "metadata": {},
   "outputs": [],
   "source": [
    "m = 70\n",
    "f = 2\n",
    "X_train = X[:m,:f]\n",
    "print(X_train)\n",
    "# X_train = np.c_[np.ones(len(X_train),dtype='int32'),X_train]\n",
    "# y_train = y[:m]\n",
    "# X_test = X[m:,:f]\n",
    "# X_test = np.c_[np.ones(len(X_test),dtype='int32'),X_test]\n",
    "# y_test = y[m:]\n",
    "\n",
    "# # Initial Coefficients\n",
    "# B = np.zeros(X_train.shape[1])\n",
    "# alpha = 0.005\n",
    "# iter_ = 2000\n",
    "# newB, cost_history = batch_gradient_descent(X_train, y_train, B, alpha, iter_)"
   ]
  },
  {
   "cell_type": "code",
   "execution_count": 100,
   "metadata": {},
   "outputs": [],
   "source": [
    "def r2(y_,y):\n",
    " sst = np.sum((y-y.mean())**2)\n",
    " ssr = np.sum((y_-y)**2) \n",
    " r2 = 1-(ssr/sst)\n",
    " return(r2)"
   ]
  },
  {
   "cell_type": "code",
   "execution_count": 104,
   "metadata": {},
   "outputs": [
    {
     "output_type": "stream",
     "name": "stdout",
     "text": [
      "[0. 0. 0.]\n[1.76737899e+04 9.54549977e+01 9.47673413e-01]\n3\n"
     ]
    }
   ],
   "source": [
    "print(B)\n",
    "print(newB)\n",
    "print(len(newB))\n",
    "\n",
    "# for x in X_test:\n",
    "#     print(x.dot(newB))"
   ]
  },
  {
   "cell_type": "code",
   "execution_count": null,
   "metadata": {},
   "outputs": [],
   "source": []
  }
 ]
}